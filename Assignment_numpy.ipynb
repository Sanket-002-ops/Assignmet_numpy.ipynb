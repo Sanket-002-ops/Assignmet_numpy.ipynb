{
  "nbformat": 4,
  "nbformat_minor": 0,
  "metadata": {
    "colab": {
      "provenance": []
    },
    "kernelspec": {
      "name": "python3",
      "display_name": "Python 3"
    },
    "language_info": {
      "name": "python"
    }
  },
  "cells": [
    {
      "cell_type": "markdown",
      "source": [
        "#Theoratical Questions:"
      ],
      "metadata": {
        "id": "X38_yPcnDmJn"
      }
    },
    {
      "cell_type": "code",
      "execution_count": null,
      "metadata": {
        "id": "mVJoncwKBVqX"
      },
      "outputs": [],
      "source": [
        "#Question1: Explain the purpose and advantages of NumPy in scientific computing and data analysis. How does it enhance Python's capabilities for numerical operations?"
      ]
    },
    {
      "cell_type": "markdown",
      "source": [
        "\n",
        "\n",
        "1.   NumPy is an indispensable tool for scientific computing, data analysis, and numerical computations in Python. Its ability to efficiently handle arrays, perform complex mathematical operations, and seamlessly integrate with other libraries solidifies its position as the cornerstone of numerical computing in Python.\n",
        "2.   It provides a high-performance multidimensional array object, and tools for working with these arrays. It is the fundamental package for scientific computing with Python.\n",
        "\n",
        "\n",
        "\n",
        "\n"
      ],
      "metadata": {
        "id": "MNJvY2qpCQ2I"
      }
    },
    {
      "cell_type": "code",
      "source": [
        "#Question2: Compare and contrast np.mean() and np.average() function in NumPY. When would you use one over the other?\n"
      ],
      "metadata": {
        "id": "-ySIRzyeD_0M"
      },
      "execution_count": null,
      "outputs": []
    },
    {
      "cell_type": "markdown",
      "source": [
        "\n",
        "\n",
        "1.   np.mean():  \n",
        "In numpy library, np.mean() is a function used to calculate arithmetic mean of the given array along with the axis.\n",
        "2.   np.average():  \n",
        "The arithmetic mean and weighted average calculations are more flexible with np.average(). It can calculate the weighted average if we pass the weigh\n",
        "\n"
      ],
      "metadata": {
        "id": "vwuFkEELEm9J"
      }
    },
    {
      "cell_type": "code",
      "source": [
        "# Example of np.mean()\n",
        "import numpy as np\n",
        "arr = np.array([1,2,3,4,5,6,7,8,9,10])\n",
        "print(\"Array : \",arr,\"\\n\")\n",
        "print(\"Mean of the Array : \",np.mean(arr))"
      ],
      "metadata": {
        "colab": {
          "base_uri": "https://localhost:8080/"
        },
        "id": "_0a5-AC-D_ZS",
        "outputId": "8c72dd70-8343-4d51-8d48-bde35cdcbea9"
      },
      "execution_count": null,
      "outputs": [
        {
          "output_type": "stream",
          "name": "stdout",
          "text": [
            "Array :  [ 1  2  3  4  5  6  7  8  9 10] \n",
            "\n",
            "Mean of the Array :  5.5\n"
          ]
        }
      ]
    },
    {
      "cell_type": "code",
      "source": [
        "# Example of np.average()\n",
        "import numpy as np\n",
        "weight = np.array([4,5,6,12,15,10,2,8,19,20])\n",
        "print(\"Weight average of Array : \",np.average(arr, weights=weight))"
      ],
      "metadata": {
        "colab": {
          "base_uri": "https://localhost:8080/"
        },
        "id": "gr76SdihD_Vg",
        "outputId": "aaa27905-fd3c-4aa3-fe58-d434d4c5cdc6"
      },
      "execution_count": null,
      "outputs": [
        {
          "output_type": "stream",
          "name": "stdout",
          "text": [
            "Weight average of Array :  6.574257425742574\n"
          ]
        }
      ]
    },
    {
      "cell_type": "code",
      "source": [
        "#Question3: Describe the method for reversing a NumPy array along different axes. Provide examples for 1D ad 2D array."
      ],
      "metadata": {
        "id": "2_nWV2H6D_Rd"
      },
      "execution_count": null,
      "outputs": []
    },
    {
      "cell_type": "markdown",
      "source": [
        "\n",
        "\n",
        "1.   In NumPy  reversing method are np.flip() are used to reverse the axis in numpy array.\n",
        "\n"
      ],
      "metadata": {
        "id": "TJG9aegTIVIG"
      }
    },
    {
      "cell_type": "code",
      "source": [
        "# Example of 1D array\n",
        "l = [\"ajay\",2,3,4,5]\n",
        "arr = np.array(l)"
      ],
      "metadata": {
        "id": "gSCUsEbVJ0QM"
      },
      "execution_count": null,
      "outputs": []
    },
    {
      "cell_type": "code",
      "source": [
        "arr"
      ],
      "metadata": {
        "colab": {
          "base_uri": "https://localhost:8080/"
        },
        "id": "qh60J2oFKeyG",
        "outputId": "99cfebe5-91a5-4973-a761-61e71743f463"
      },
      "execution_count": null,
      "outputs": [
        {
          "output_type": "execute_result",
          "data": {
            "text/plain": [
              "array(['ajay', '2', '3', '4', '5'], dtype='<U21')"
            ]
          },
          "metadata": {},
          "execution_count": 9
        }
      ]
    },
    {
      "cell_type": "code",
      "source": [
        "arr.ndim"
      ],
      "metadata": {
        "colab": {
          "base_uri": "https://localhost:8080/"
        },
        "id": "OJtu_JkwKida",
        "outputId": "482d1c93-de99-47ea-829f-b932b09a2ec5"
      },
      "execution_count": null,
      "outputs": [
        {
          "output_type": "execute_result",
          "data": {
            "text/plain": [
              "1"
            ]
          },
          "metadata": {},
          "execution_count": 10
        }
      ]
    },
    {
      "cell_type": "code",
      "source": [
        "#Example of 2D array\n",
        "arr = np.array([[1,2,3,4],[5,6,7,8]])\n",
        "arr"
      ],
      "metadata": {
        "colab": {
          "base_uri": "https://localhost:8080/"
        },
        "id": "xPf0VbPeKmt4",
        "outputId": "12f7a643-303e-4f2e-99a8-38e15132473a"
      },
      "execution_count": null,
      "outputs": [
        {
          "output_type": "execute_result",
          "data": {
            "text/plain": [
              "array([[1, 2, 3, 4],\n",
              "       [5, 6, 7, 8]])"
            ]
          },
          "metadata": {},
          "execution_count": 12
        }
      ]
    },
    {
      "cell_type": "code",
      "source": [
        "arr.ndim"
      ],
      "metadata": {
        "colab": {
          "base_uri": "https://localhost:8080/"
        },
        "id": "odxcJI06Kmdj",
        "outputId": "88ce0f21-61ae-4326-fe29-8da494a20f48"
      },
      "execution_count": null,
      "outputs": [
        {
          "output_type": "execute_result",
          "data": {
            "text/plain": [
              "2"
            ]
          },
          "metadata": {},
          "execution_count": 13
        }
      ]
    },
    {
      "cell_type": "code",
      "source": [
        "# Question4: How can you determine the data type of elements in a NumPy array? Discus the importance of data types in memory manegment and performance."
      ],
      "metadata": {
        "id": "JuSIY-vrLJ1Q"
      },
      "execution_count": null,
      "outputs": []
    },
    {
      "cell_type": "markdown",
      "source": [
        "\n",
        "\n",
        "#Data type of element in a NumPy array are\n",
        "*   dtype = int\n",
        "\n",
        "*   dtype = float\n",
        "*   In NumPy data type by defalt all the array values is in float.\n",
        "\n",
        "\n",
        "\n"
      ],
      "metadata": {
        "id": "SiXKdyvBL8lq"
      }
    },
    {
      "cell_type": "code",
      "source": [
        "# Taking an example of data type\n",
        "import numpy as np\n",
        "arr = np.zeros(5)"
      ],
      "metadata": {
        "id": "R5iZpG2DNVW1"
      },
      "execution_count": null,
      "outputs": []
    },
    {
      "cell_type": "code",
      "source": [
        "arr  #by defalt numpy array takes values in float"
      ],
      "metadata": {
        "colab": {
          "base_uri": "https://localhost:8080/"
        },
        "id": "bLQZ-UQKLJkK",
        "outputId": "41a8ec5a-5d96-4d22-96ea-38c9ce572b26"
      },
      "execution_count": null,
      "outputs": [
        {
          "output_type": "execute_result",
          "data": {
            "text/plain": [
              "array([0., 0., 0., 0., 0.])"
            ]
          },
          "metadata": {},
          "execution_count": 15
        }
      ]
    },
    {
      "cell_type": "code",
      "source": [
        "arr = np.zeros(5, dtype = int) # changing this value as int\n",
        "arr"
      ],
      "metadata": {
        "colab": {
          "base_uri": "https://localhost:8080/"
        },
        "id": "J_ceuRm4N6px",
        "outputId": "5b085064-c09e-4175-d119-fb3d660468bb"
      },
      "execution_count": null,
      "outputs": [
        {
          "output_type": "execute_result",
          "data": {
            "text/plain": [
              "array([0, 0, 0, 0, 0])"
            ]
          },
          "metadata": {},
          "execution_count": 16
        }
      ]
    },
    {
      "cell_type": "code",
      "source": [
        "#Question5: Define ndarrays in NumPy and explain their key features. How do they differ from standered python lists?"
      ],
      "metadata": {
        "id": "qsuZIMZPN6YZ"
      },
      "execution_count": null,
      "outputs": []
    },
    {
      "cell_type": "markdown",
      "source": [
        "#ndarray is defined as N-dimensional array(ndarray) in python.\n",
        "\n",
        "*   An ndarray is a multi-dimensional array of items of the same type and size. The number of dimensions and items contained in the array is defined with a tuple of N non-negative integers that specify each dimension's size. An ndarray has an associated data type object which specify the dtype stored in the array.\n",
        "\n",
        "\n"
      ],
      "metadata": {
        "id": "al1_qG5jO-yW"
      }
    },
    {
      "cell_type": "code",
      "source": [
        "import numpy as np\n",
        "\n",
        "# Creating array object\n",
        "arr = np.array([[1, 2, 3],\n",
        "                [4, 2, 5]])\n",
        "\n",
        "# Printing type of arr object\n",
        "print(\"Array is of type: \", type(arr))\n",
        "\n",
        "# Printing array dimensions (axes)\n",
        "print(\"No. of dimensions: \", arr.ndim)\n",
        "\n",
        "# Printing shape of array\n",
        "print(\"Shape of array: \", arr.shape)\n",
        "\n",
        "# Printing size (total number of elements) of array\n",
        "print(\"Size of array: \", arr.size)\n",
        "\n",
        "# Printing type of elements in array\n",
        "print(\"Array stores elements of type: \", arr.dtype)"
      ],
      "metadata": {
        "colab": {
          "base_uri": "https://localhost:8080/"
        },
        "id": "yj-dB6yWOvQ_",
        "outputId": "f076fc1b-bfe1-48f1-8ee2-c52055c82d49"
      },
      "execution_count": null,
      "outputs": [
        {
          "output_type": "stream",
          "name": "stdout",
          "text": [
            "Array is of type:  <class 'numpy.ndarray'>\n",
            "No. of dimensions:  2\n",
            "Shape of array:  (2, 3)\n",
            "Size of array:  6\n",
            "Array stores elements of type:  int64\n"
          ]
        }
      ]
    },
    {
      "cell_type": "code",
      "source": [
        "# Question 6: Analyze the performance benefits of NumPy arrays over Python lists for large-scale numerical operations."
      ],
      "metadata": {
        "id": "DImKHsaGOu-u"
      },
      "execution_count": null,
      "outputs": []
    },
    {
      "cell_type": "markdown",
      "source": [
        "\n",
        "\n",
        "1.   Performance:   NumPy arrays are optimized for numerical computations, with efficient element-wise operations and mathematical functions. These operations are implemented in C, resulting in faster performance than equivalent operations on lists.\n",
        "2.   Performance: Lists are not optimized for numerical computations and may have slower mathematical operations due to Python’s interpretation overhead. They are generally used as general-purpose data structures\n",
        "\n"
      ],
      "metadata": {
        "id": "aZh6S_e6aM01"
      }
    },
    {
      "cell_type": "code",
      "source": [
        "# Question7: Compare vstack()and hstack() function in numpy. Provide example demonstrating their usage and output."
      ],
      "metadata": {
        "id": "32-n-NzFN6GR"
      },
      "execution_count": null,
      "outputs": []
    },
    {
      "cell_type": "markdown",
      "source": [
        "\n",
        "\n",
        "1.   numpy.hstack() in Python:  \n",
        "numpy.hstack() function is used to stack the sequence of input arrays horizontally (i.e. column wise) to make a single array.\n",
        "2.   numpy.vstack() in python:  \n",
        "numpy.vstack() function is used to stack the sequence of input arrays vertically to make a single array.\n",
        "\n",
        "\n",
        "\n"
      ],
      "metadata": {
        "id": "f1FQGBbVb4PP"
      }
    },
    {
      "cell_type": "code",
      "source": [
        "#Example of hstack function in numpy\n",
        "import numpy as np\n",
        "\n",
        "# input array\n",
        "arr1 =np.array([ 1, 2, 3] )\n",
        "print (\"1st Input array : \\n\", arr1)\n",
        "\n",
        "arr2 = np.array([ 4, 5, 6] )\n",
        "print (\"2nd Input array : \\n\", arr2)\n",
        "\n",
        "# Stacking the two arrays horizontally\n",
        "out_arr = np.hstack((arr1, arr2))\n",
        "print (\"Output horizontally stacked array:\\n \", out_arr)"
      ],
      "metadata": {
        "colab": {
          "base_uri": "https://localhost:8080/"
        },
        "id": "EkcPIo6kcfnr",
        "outputId": "c6d3af7e-522b-4521-af2f-085f2a1847e0"
      },
      "execution_count": null,
      "outputs": [
        {
          "output_type": "stream",
          "name": "stdout",
          "text": [
            "1st Input array : \n",
            " [1 2 3]\n",
            "2nd Input array : \n",
            " [4 5 6]\n",
            "Output horizontally stacked array:\n",
            "  [1 2 3 4 5 6]\n"
          ]
        }
      ]
    },
    {
      "cell_type": "code",
      "source": [
        "#Example of vstack function in numpy\n",
        "import numpy as np\n",
        "\n",
        "# input array\n",
        "arr1 =np.array([ 1, 2, 3] )\n",
        "print (\"1st Input array : \\n\", arr1)\n",
        "\n",
        "arr2 = np.array([ 4, 5, 6] )\n",
        "print (\"2nd Input array : \\n\", arr2)\n",
        "\n",
        "# Stacking the two arrays vertically\n",
        "out_arr = np.vstack((arr1, arr2))\n",
        "print (\"Output vertically stacked array:\\n \", out_arr)"
      ],
      "metadata": {
        "colab": {
          "base_uri": "https://localhost:8080/"
        },
        "id": "fokHPfybdOHR",
        "outputId": "595be787-eb0a-4af6-b5f7-d2dcce617ded"
      },
      "execution_count": null,
      "outputs": [
        {
          "output_type": "stream",
          "name": "stdout",
          "text": [
            "1st Input array : \n",
            " [1 2 3]\n",
            "2nd Input array : \n",
            " [4 5 6]\n",
            "Output vertically stacked array:\n",
            "  [[1 2 3]\n",
            " [4 5 6]]\n"
          ]
        }
      ]
    },
    {
      "cell_type": "code",
      "source": [
        "# Question8: Explain the difference between fliplr() and flipud() method in NumPy, including their effects on various arrary dimensions."
      ],
      "metadata": {
        "id": "SvBrtwC_dOCv"
      },
      "execution_count": null,
      "outputs": []
    },
    {
      "cell_type": "markdown",
      "source": [
        "\n",
        "\n",
        "1.   fliplr(array) : Flip array(entries in each column) in left-right direction, shape preserved\n",
        "2.   flipud() function flips the array(entries in each column) in up-down direction, shape preserved\n",
        "\n"
      ],
      "metadata": {
        "id": "CTl6o5pLfnGr"
      }
    },
    {
      "cell_type": "code",
      "source": [
        "# This is example of fliplr()\n",
        "import numpy as np\n",
        "\n",
        "array = np.arange(8).reshape((2,2,2))\n",
        "print(\"Original array : \\n\", array)\n",
        "\n",
        "# fliplr : means flip left-right\n",
        "print(\"\\nFlipped array left-right : \\n\", np.fliplr(array))"
      ],
      "metadata": {
        "colab": {
          "base_uri": "https://localhost:8080/"
        },
        "id": "s9z_OIqvdN2w",
        "outputId": "051b4481-d08f-4918-e39d-f3ff1ba084ee"
      },
      "execution_count": null,
      "outputs": [
        {
          "output_type": "stream",
          "name": "stdout",
          "text": [
            "Original array : \n",
            " [[[0 1]\n",
            "  [2 3]]\n",
            "\n",
            " [[4 5]\n",
            "  [6 7]]]\n",
            "\n",
            "Flipped array left-right : \n",
            " [[[2 3]\n",
            "  [0 1]]\n",
            "\n",
            " [[6 7]\n",
            "  [4 5]]]\n"
          ]
        }
      ]
    },
    {
      "cell_type": "code",
      "source": [
        "# This is example of flipud()\n",
        "import numpy as np\n",
        "\n",
        "array = np.arange(8).reshape((2,2,2))\n",
        "print(\"Original array : \\n\", array)\n",
        "\n",
        "# flipud : means flip up-down\n",
        "print(\"\\nFlipped array : \\n\", np.flipud(array))"
      ],
      "metadata": {
        "colab": {
          "base_uri": "https://localhost:8080/"
        },
        "id": "5ia8xU9Bf07z",
        "outputId": "6c0cb4e8-c61c-4633-a8a2-ab628bb5a917"
      },
      "execution_count": null,
      "outputs": [
        {
          "output_type": "stream",
          "name": "stdout",
          "text": [
            "Original array : \n",
            " [[[0 1]\n",
            "  [2 3]]\n",
            "\n",
            " [[4 5]\n",
            "  [6 7]]]\n",
            "\n",
            "Flipped array : \n",
            " [[[4 5]\n",
            "  [6 7]]\n",
            "\n",
            " [[0 1]\n",
            "  [2 3]]]\n"
          ]
        }
      ]
    },
    {
      "cell_type": "code",
      "source": [
        "# Question9: Discuss the functionality of the array_split() method in NumPy. How does it handle uneven splits?"
      ],
      "metadata": {
        "id": "dNaI1vgmf0nN"
      },
      "execution_count": null,
      "outputs": []
    },
    {
      "cell_type": "markdown",
      "source": [
        "\n",
        "\n",
        "*  array_split() s plitting into equal or nearly equal sub-arrays or is similar to numpy. split()\n",
        "*   Array splitting in NumPy is like a slice of cake. Think of each element in a NumPy array as a slice of cake. Splitting divides this “cake” into smaller “slices” (sub-arrays), often along specific dimensions or based on certain criteria. We can split horizontally, vertically, or even diagonally depending on our needs.\n",
        "\n",
        "The split(), hsplit(), vsplit(), and dsplit() functions are important tools for dividing arrays along various axes and dimensions. These functions are particularly useful when working with one-dimensional arrays, matrices, or high-dimensional datasets\n",
        "\n"
      ],
      "metadata": {
        "id": "KsC6Xk7U5Q5F"
      }
    },
    {
      "cell_type": "code",
      "source": [
        "import numpy as np\n",
        "\n",
        "# Creating an example array\n",
        "array = np.arange(13)\n",
        "\n",
        "# Splitting the array into 4 unequal parts along the first axis (axis=0)\n",
        "result = np.array_split(array, 4)\n",
        "\n",
        "print(\"Array:\")\n",
        "print(array)\n",
        "print(\"\\nResult after numpy.array_split():\")\n",
        "print(result)"
      ],
      "metadata": {
        "colab": {
          "base_uri": "https://localhost:8080/"
        },
        "id": "6UX1eO_Z5v3j",
        "outputId": "fe2bfca1-0e04-444f-9bae-416af9a7b1d1"
      },
      "execution_count": null,
      "outputs": [
        {
          "output_type": "stream",
          "name": "stdout",
          "text": [
            "Array:\n",
            "[ 0  1  2  3  4  5  6  7  8  9 10 11 12]\n",
            "\n",
            "Result after numpy.array_split():\n",
            "[array([0, 1, 2, 3]), array([4, 5, 6]), array([7, 8, 9]), array([10, 11, 12])]\n"
          ]
        }
      ]
    },
    {
      "cell_type": "code",
      "source": [
        "# Question10: Explain the concepts of vectorization and broadcasting in NumPy. How do they contribute to efficient array operations?"
      ],
      "metadata": {
        "id": "IUvGngYE6xWH"
      },
      "execution_count": null,
      "outputs": []
    },
    {
      "cell_type": "markdown",
      "source": [
        "#VECTORIZATION IN NUMPY:\n",
        "\n",
        "1.  Vectorization is the process of converting an algorithm from operating on a single value at a time to operating on a set of values (vector) at one time.\n",
        "\n",
        "*   These techniques to perform operations on Numpy arrays without using loops. It only uses the pre-defined inbuilt functions like the sum function etc., and mathematical operations like \"+\", \"-\", \"/\" etc. for performing operations in Numpy arrays.\n",
        "\n",
        "#BROADCASTING IN NUMPY:\n",
        "\n",
        "2. The term broadcasting describes how NumPy treats arrays with different shapes during arithmetic operations. Subject to certain constraints, the smaller array is “broadcast” across the larger array so that they have compatible shapes.  \n",
        "\n",
        "Broadcasting provides a means of vectorizing array operations, therefore eliminating the need for Python loops. This is because NumPy is implemented in C Programming, which is a very efficient language. It does this without making needless copies of data which leads to efficient algorithm implementations."
      ],
      "metadata": {
        "id": "RiD6SZAzEM3L"
      }
    },
    {
      "cell_type": "markdown",
      "source": [
        "##PRACTICAL QUESTIONS:"
      ],
      "metadata": {
        "id": "a8vVyfEWHm-L"
      }
    },
    {
      "cell_type": "code",
      "source": [
        "# Question1: Create a 3*3 NumPy array with random integers between 1 and 100. Then, interchange its rows and columns."
      ],
      "metadata": {
        "id": "WZXEOSTz6xSG"
      },
      "execution_count": null,
      "outputs": []
    },
    {
      "cell_type": "code",
      "source": [
        "import numpy as np\n",
        "arr = np.random.randint(1,100,(3,3))"
      ],
      "metadata": {
        "id": "nQ5XUaVS6xBq"
      },
      "execution_count": null,
      "outputs": []
    },
    {
      "cell_type": "code",
      "source": [
        "arr"
      ],
      "metadata": {
        "colab": {
          "base_uri": "https://localhost:8080/"
        },
        "id": "9pwyZA4K6w9q",
        "outputId": "eeb17eed-2a3c-4ccb-8424-2af52e3c2f10"
      },
      "execution_count": null,
      "outputs": [
        {
          "output_type": "execute_result",
          "data": {
            "text/plain": [
              "array([[96, 51, 89],\n",
              "       [57, 44,  8],\n",
              "       [63, 88, 78]])"
            ]
          },
          "metadata": {},
          "execution_count": 16
        }
      ]
    },
    {
      "cell_type": "code",
      "source": [
        "arr.reshape(3,3,1)"
      ],
      "metadata": {
        "colab": {
          "base_uri": "https://localhost:8080/"
        },
        "id": "OpOOTaa26w50",
        "outputId": "5e1eb7ac-6a29-4e7c-803f-08896dd2f703"
      },
      "execution_count": null,
      "outputs": [
        {
          "output_type": "execute_result",
          "data": {
            "text/plain": [
              "array([[[96],\n",
              "        [51],\n",
              "        [89]],\n",
              "\n",
              "       [[57],\n",
              "        [44],\n",
              "        [ 8]],\n",
              "\n",
              "       [[63],\n",
              "        [88],\n",
              "        [78]]])"
            ]
          },
          "metadata": {},
          "execution_count": 19
        }
      ]
    },
    {
      "cell_type": "code",
      "source": [
        "# Questio2: Generate a 1D NumPy with 10 elements. Reshape it into a 2*5 array, then into 5*2 array."
      ],
      "metadata": {
        "id": "IJIWnP5s6w1q"
      },
      "execution_count": null,
      "outputs": []
    },
    {
      "cell_type": "code",
      "source": [
        "import numpy as np\n",
        "# 1-D array having elements [1 2 3 4 5 6 7 8 9 10]\n",
        "arr = np.array([1, 2, 3, 4, 5, 6, 7, 8, 9, 10])\n",
        "\n",
        "# Now we can convert this 1-D array into 2-D in two ways\n",
        "\n",
        "# 1. having dimension 5 x 2\n",
        "arr1 = arr.reshape(5, 2)\n",
        "print ('After reshaping having dimension 5x2:')\n",
        "print (arr1)\n",
        "print ('\\n')\n",
        "\n",
        "# 2. having dimension 2 x 5\n",
        "arr2 = arr.reshape(2, 5)\n",
        "print ('After reshaping having dimension 2x5:')\n",
        "print (arr2)\n",
        "print ('\\n')"
      ],
      "metadata": {
        "colab": {
          "base_uri": "https://localhost:8080/"
        },
        "id": "KqYmn5d3Pdh3",
        "outputId": "28c96ef1-7668-44e2-dd24-d0b46d079617"
      },
      "execution_count": null,
      "outputs": [
        {
          "output_type": "stream",
          "name": "stdout",
          "text": [
            "After reshaping having dimension 5x2:\n",
            "[[ 1  2]\n",
            " [ 3  4]\n",
            " [ 5  6]\n",
            " [ 7  8]\n",
            " [ 9 10]]\n",
            "\n",
            "\n",
            "After reshaping having dimension 2x5:\n",
            "[[ 1  2  3  4  5]\n",
            " [ 6  7  8  9 10]]\n",
            "\n",
            "\n"
          ]
        }
      ]
    },
    {
      "cell_type": "code",
      "source": [
        "arr"
      ],
      "metadata": {
        "colab": {
          "base_uri": "https://localhost:8080/"
        },
        "id": "kJsM3igwPdPJ",
        "outputId": "032326e1-e633-4b82-bebf-5cafb2e2c6b9"
      },
      "execution_count": null,
      "outputs": [
        {
          "output_type": "execute_result",
          "data": {
            "text/plain": [
              "array([[ 1,  2,  3,  4,  5],\n",
              "       [ 6,  7,  8,  9, 10]])"
            ]
          },
          "metadata": {},
          "execution_count": 26
        }
      ]
    },
    {
      "cell_type": "code",
      "source": [
        "# Questio3: Create a 4*4 NumPy array with random float values. Add a border of zeros around it, resulting in a 6*6 array."
      ],
      "metadata": {
        "id": "2J9DqcSLPc9E"
      },
      "execution_count": null,
      "outputs": []
    },
    {
      "cell_type": "code",
      "source": [
        "import numpy as np\n",
        "arr=np.ones((4,4))\n",
        "print(\"Array arr is :\\n\",arr)\n",
        "arr1=np.pad(arr, pad_width=1, mode='constant', constant_values=0)\n",
        "print(\"Border of 0 around array arr :\\n\",arr1)\n"
      ],
      "metadata": {
        "colab": {
          "base_uri": "https://localhost:8080/"
        },
        "id": "cgqTvsmsBxZb",
        "outputId": "77c852da-6542-4028-cf14-5fd2bbe4e00c"
      },
      "execution_count": null,
      "outputs": [
        {
          "output_type": "stream",
          "name": "stdout",
          "text": [
            "Array arr is :\n",
            " [[1. 1. 1. 1.]\n",
            " [1. 1. 1. 1.]\n",
            " [1. 1. 1. 1.]\n",
            " [1. 1. 1. 1.]]\n",
            "Border of 0 around array arr :\n",
            " [[0. 0. 0. 0. 0. 0.]\n",
            " [0. 1. 1. 1. 1. 0.]\n",
            " [0. 1. 1. 1. 1. 0.]\n",
            " [0. 1. 1. 1. 1. 0.]\n",
            " [0. 1. 1. 1. 1. 0.]\n",
            " [0. 0. 0. 0. 0. 0.]]\n"
          ]
        }
      ]
    },
    {
      "cell_type": "code",
      "source": [
        "# Questio4: Using numpy create an array of integers from 10 to 60 with a step of 5."
      ],
      "metadata": {
        "id": "2GSv05TlDvms"
      },
      "execution_count": null,
      "outputs": []
    },
    {
      "cell_type": "code",
      "source": [
        "arr = np.arange(10, 60, 5)\n",
        "arr"
      ],
      "metadata": {
        "colab": {
          "base_uri": "https://localhost:8080/"
        },
        "id": "tFTze-tWDvii",
        "outputId": "bf804d35-df38-4639-d18f-5b9bc7d2b748"
      },
      "execution_count": null,
      "outputs": [
        {
          "output_type": "execute_result",
          "data": {
            "text/plain": [
              "array([10, 15, 20, 25, 30, 35, 40, 45, 50, 55])"
            ]
          },
          "metadata": {},
          "execution_count": 8
        }
      ]
    },
    {
      "cell_type": "code",
      "source": [
        "# Question5: Create a numpy array of strings ['python', 'numpy', 'pandas'] apply different case transformation(uppercase, lowercase, titlecase, etc) to each element."
      ],
      "metadata": {
        "id": "qahutbsdDvUf"
      },
      "execution_count": null,
      "outputs": []
    },
    {
      "cell_type": "code",
      "source": [
        "import numpy as np\n",
        "\n",
        "# Creating a NumPy array containing strings\n",
        "x = np.array([\"python\", \"numpy\", \"pandas\"])\n",
        "\n",
        "# Displaying the original array\n",
        "print(\"Original Array:\")\n",
        "print(x)\n",
        "\n",
        "# Converting all characters to lowercase\n",
        "lowered_case = np.char.lower(x)\n",
        "\n",
        "# Converting all characters to uppercase\n",
        "uppered_case = np.char.upper(x)\n",
        "\n",
        "# Capitalizing the first character of each word in the string\n",
        "titlecased_case = np.char.title(x)\n",
        "\n",
        "print(\"Lowered: \", lowered_case)\n",
        "print(\"Uppered: \", uppered_case)\n",
        "print(\"Titlecased: \", titlecased_case)\n"
      ],
      "metadata": {
        "id": "-BtmcL4VDvLV",
        "colab": {
          "base_uri": "https://localhost:8080/"
        },
        "outputId": "1f7775dc-be90-4146-cf07-e15e238d6c80"
      },
      "execution_count": null,
      "outputs": [
        {
          "output_type": "stream",
          "name": "stdout",
          "text": [
            "Original Array:\n",
            "['python' 'numpy' 'pandas']\n",
            "Lowered:  ['python' 'numpy' 'pandas']\n",
            "Uppered:  ['PYTHON' 'NUMPY' 'PANDAS']\n",
            "Titlecased:  ['Python' 'Numpy' 'Pandas']\n"
          ]
        }
      ]
    },
    {
      "cell_type": "code",
      "source": [
        "# Question6: Generate a numpy array of words insert a space between each charecter of every word in the array."
      ],
      "metadata": {
        "id": "s2inuxuBTUVX"
      },
      "execution_count": null,
      "outputs": []
    },
    {
      "cell_type": "code",
      "source": [
        "\n",
        "# importing numpy as np\n",
        "import numpy as np\n",
        "\n",
        "\n",
        "# creating array of string\n",
        "arr = np.array([\"Physics\", \"Wallah\",\"offers\", \"varities\", \"of\", \"Programs\", \"to\", \"helps\", \"students\"])\n",
        "\n",
        "\n",
        "print(\"Printing the Original Array:\")\n",
        "print(arr)\n",
        "\n",
        "# inserting space using np.char.join()\n",
        "r = np.char.join(\" \", arr)\n",
        "print(\"Printing the array after inserting space\\between the elements\")\n",
        "\n",
        "print(r)"
      ],
      "metadata": {
        "colab": {
          "base_uri": "https://localhost:8080/"
        },
        "id": "Cioow9QWTUP3",
        "outputId": "bb08ae7c-2ff4-46bc-e157-a75d9894f8f1"
      },
      "execution_count": null,
      "outputs": [
        {
          "output_type": "stream",
          "name": "stdout",
          "text": [
            "Printing the Original Array:\n",
            "['Physics' 'Wallah' 'offers' 'varities' 'of' 'Programs' 'to' 'helps'\n",
            " 'students']\n",
            "Printing the array after inserting space\between the elements\n",
            "['P h y s i c s' 'W a l l a h' 'o f f e r s' 'v a r i t i e s' 'o f'\n",
            " 'P r o g r a m s' 't o' 'h e l p s' 's t u d e n t s']\n"
          ]
        }
      ]
    },
    {
      "cell_type": "code",
      "source": [
        "# Question7: Create two 2D numpy array and perform element-wise addition, subtraction, multiplication, and division."
      ],
      "metadata": {
        "id": "Cpo9JRAMTUKY"
      },
      "execution_count": null,
      "outputs": []
    },
    {
      "cell_type": "code",
      "source": [
        "arr1 = np.random.randint(1,3,(3,3))\n",
        "arr2 = np.random.randint(1,3,(3,3))"
      ],
      "metadata": {
        "id": "AqBoT-e7ZsRX"
      },
      "execution_count": null,
      "outputs": []
    },
    {
      "cell_type": "code",
      "source": [
        "arr1,arr2"
      ],
      "metadata": {
        "colab": {
          "base_uri": "https://localhost:8080/"
        },
        "id": "9B96wGnKZsM_",
        "outputId": "5dba576e-f2ab-4b4e-85ea-01e251f77ae3"
      },
      "execution_count": null,
      "outputs": [
        {
          "output_type": "execute_result",
          "data": {
            "text/plain": [
              "(array([[2, 1, 2],\n",
              "        [2, 2, 2],\n",
              "        [1, 2, 1]]),\n",
              " array([[1, 2, 1],\n",
              "        [1, 1, 1],\n",
              "        [1, 1, 1]]))"
            ]
          },
          "metadata": {},
          "execution_count": 25
        }
      ]
    },
    {
      "cell_type": "code",
      "source": [
        "arr1+arr2"
      ],
      "metadata": {
        "colab": {
          "base_uri": "https://localhost:8080/"
        },
        "id": "iuihtMIFZsIn",
        "outputId": "623df905-998c-40ae-f1a7-850aefa9c651"
      },
      "execution_count": null,
      "outputs": [
        {
          "output_type": "execute_result",
          "data": {
            "text/plain": [
              "array([[3, 3, 3],\n",
              "       [3, 3, 3],\n",
              "       [2, 3, 2]])"
            ]
          },
          "metadata": {},
          "execution_count": 26
        }
      ]
    },
    {
      "cell_type": "code",
      "source": [
        "arr1-arr2"
      ],
      "metadata": {
        "colab": {
          "base_uri": "https://localhost:8080/"
        },
        "id": "mKmEP9cuZrqO",
        "outputId": "213556ee-03a9-4386-8d0f-de1a0812768e"
      },
      "execution_count": null,
      "outputs": [
        {
          "output_type": "execute_result",
          "data": {
            "text/plain": [
              "array([[ 1, -1,  1],\n",
              "       [ 1,  1,  1],\n",
              "       [ 0,  1,  0]])"
            ]
          },
          "metadata": {},
          "execution_count": 27
        }
      ]
    },
    {
      "cell_type": "code",
      "source": [
        "arr1*arr2"
      ],
      "metadata": {
        "colab": {
          "base_uri": "https://localhost:8080/"
        },
        "id": "X_8o49I4ZrZm",
        "outputId": "2cb6dafe-2eb3-49f3-9946-e638a081c232"
      },
      "execution_count": null,
      "outputs": [
        {
          "output_type": "execute_result",
          "data": {
            "text/plain": [
              "array([[2, 2, 2],\n",
              "       [2, 2, 2],\n",
              "       [1, 2, 1]])"
            ]
          },
          "metadata": {},
          "execution_count": 28
        }
      ]
    },
    {
      "cell_type": "code",
      "source": [
        "arr1/arr2"
      ],
      "metadata": {
        "colab": {
          "base_uri": "https://localhost:8080/"
        },
        "id": "k06yTpnNZrHX",
        "outputId": "3506560f-36d7-4dca-8ce2-0f8b9aff64fd"
      },
      "execution_count": null,
      "outputs": [
        {
          "output_type": "execute_result",
          "data": {
            "text/plain": [
              "array([[2. , 0.5, 2. ],\n",
              "       [2. , 2. , 2. ],\n",
              "       [1. , 2. , 1. ]])"
            ]
          },
          "metadata": {},
          "execution_count": 29
        }
      ]
    },
    {
      "cell_type": "code",
      "source": [
        "# Question8: Use numpy to create a 5*5 identity Matrix then extract its diagonal element"
      ],
      "metadata": {
        "id": "KsLKnFitZqnm"
      },
      "execution_count": null,
      "outputs": []
    },
    {
      "cell_type": "code",
      "source": [
        "import numpy as np\n",
        "arr = np.arange(25).reshape((5, 5))\n",
        "print(\"Original element:\")\n",
        "print(arr)\n",
        "print(\"Diagonal element:\")\n",
        "print(np.diag(arr))\n",
        "\n"
      ],
      "metadata": {
        "colab": {
          "base_uri": "https://localhost:8080/"
        },
        "id": "6gRlozTecwjj",
        "outputId": "8270d733-0019-4af0-bd48-cdd8bcf52a0b"
      },
      "execution_count": null,
      "outputs": [
        {
          "output_type": "stream",
          "name": "stdout",
          "text": [
            "Original element:\n",
            "[[ 0  1  2  3  4]\n",
            " [ 5  6  7  8  9]\n",
            " [10 11 12 13 14]\n",
            " [15 16 17 18 19]\n",
            " [20 21 22 23 24]]\n",
            "Diagonal element:\n",
            "[ 0  6 12 18 24]\n"
          ]
        }
      ]
    },
    {
      "cell_type": "code",
      "source": [
        "# Question9: Generate a numpy array of 100 random integer between 0 and 1000. Find and display all prime number in this array."
      ],
      "metadata": {
        "id": "NhZNnaT4cz3S"
      },
      "execution_count": null,
      "outputs": []
    },
    {
      "cell_type": "code",
      "source": [
        "import numpy as np\n",
        "import math\n",
        "\n",
        "def is_prime(n):\n",
        "    if n % 2 == 0 and n > 2:\n",
        "        return False\n",
        "    return all(n % i for i in range(3, int(math.sqrt(n)) + 1, 2))\n",
        "\n",
        "a = np.arange(1, 1000)\n",
        "foo = np.vectorize(is_prime)\n",
        "pbools = foo(a)\n",
        "primes = np.extract(pbools, a)\n",
        "primes  # => Output below\n"
      ],
      "metadata": {
        "colab": {
          "base_uri": "https://localhost:8080/"
        },
        "id": "cPTT8OFcg1wQ",
        "outputId": "905e9ab4-f2e9-4d8c-deab-9908ed92b8d9"
      },
      "execution_count": null,
      "outputs": [
        {
          "output_type": "execute_result",
          "data": {
            "text/plain": [
              "array([  1,   2,   3,   5,   7,  11,  13,  17,  19,  23,  29,  31,  37,\n",
              "        41,  43,  47,  53,  59,  61,  67,  71,  73,  79,  83,  89,  97,\n",
              "       101, 103, 107, 109, 113, 127, 131, 137, 139, 149, 151, 157, 163,\n",
              "       167, 173, 179, 181, 191, 193, 197, 199, 211, 223, 227, 229, 233,\n",
              "       239, 241, 251, 257, 263, 269, 271, 277, 281, 283, 293, 307, 311,\n",
              "       313, 317, 331, 337, 347, 349, 353, 359, 367, 373, 379, 383, 389,\n",
              "       397, 401, 409, 419, 421, 431, 433, 439, 443, 449, 457, 461, 463,\n",
              "       467, 479, 487, 491, 499, 503, 509, 521, 523, 541, 547, 557, 563,\n",
              "       569, 571, 577, 587, 593, 599, 601, 607, 613, 617, 619, 631, 641,\n",
              "       643, 647, 653, 659, 661, 673, 677, 683, 691, 701, 709, 719, 727,\n",
              "       733, 739, 743, 751, 757, 761, 769, 773, 787, 797, 809, 811, 821,\n",
              "       823, 827, 829, 839, 853, 857, 859, 863, 877, 881, 883, 887, 907,\n",
              "       911, 919, 929, 937, 941, 947, 953, 967, 971, 977, 983, 991, 997])"
            ]
          },
          "metadata": {},
          "execution_count": 4
        }
      ]
    },
    {
      "cell_type": "code",
      "source": [
        "# Question10: Create a NumPy array representing daily temperature for a month calculate and display the weekly averages."
      ],
      "metadata": {
        "id": "eb6j0AHaCXIK"
      },
      "execution_count": null,
      "outputs": []
    },
    {
      "cell_type": "code",
      "source": [
        "!git push -u origin main"
      ],
      "metadata": {
        "colab": {
          "base_uri": "https://localhost:8080/"
        },
        "id": "IA4NHgT8MXpS",
        "outputId": "475cea97-3b23-4761-b05d-b740d23304f3"
      },
      "execution_count": 12,
      "outputs": [
        {
          "output_type": "stream",
          "name": "stdout",
          "text": [
            "fatal: not a git repository (or any of the parent directories): .git\n"
          ]
        }
      ]
    },
    {
      "cell_type": "code",
      "source": [],
      "metadata": {
        "id": "9eOXzdpPMXkR"
      },
      "execution_count": null,
      "outputs": []
    },
    {
      "cell_type": "code",
      "source": [],
      "metadata": {
        "id": "mhJpZT2MMXfW"
      },
      "execution_count": null,
      "outputs": []
    },
    {
      "cell_type": "code",
      "source": [],
      "metadata": {
        "id": "HhrF-eJCMXa0"
      },
      "execution_count": null,
      "outputs": []
    },
    {
      "cell_type": "code",
      "source": [],
      "metadata": {
        "id": "JQErvN3QMXV1"
      },
      "execution_count": null,
      "outputs": []
    },
    {
      "cell_type": "code",
      "source": [],
      "metadata": {
        "id": "Oed9fR-RMXQw"
      },
      "execution_count": null,
      "outputs": []
    },
    {
      "cell_type": "code",
      "source": [],
      "metadata": {
        "id": "aM4vM2ApMXMb"
      },
      "execution_count": null,
      "outputs": []
    },
    {
      "cell_type": "code",
      "source": [],
      "metadata": {
        "id": "4VTkiU9BMXIP"
      },
      "execution_count": null,
      "outputs": []
    },
    {
      "cell_type": "code",
      "source": [],
      "metadata": {
        "id": "JcbSFovBMXEC"
      },
      "execution_count": null,
      "outputs": []
    },
    {
      "cell_type": "code",
      "source": [],
      "metadata": {
        "id": "gsOgQ8ncMW_2"
      },
      "execution_count": null,
      "outputs": []
    },
    {
      "cell_type": "code",
      "source": [],
      "metadata": {
        "id": "h-e2G7LvMW6u"
      },
      "execution_count": null,
      "outputs": []
    }
  ]
}